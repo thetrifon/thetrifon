{
 "cells": [
  {
   "cell_type": "code",
   "execution_count": 6,
   "id": "8b5bcc85",
   "metadata": {},
   "outputs": [],
   "source": [
    "def binary_search(list, item):\n",
    "        low = 0\n",
    "        high = len(list)-1\n",
    "        \n",
    "        while low <= high:\n",
    "            mid = (low + high)\n",
    "            guess = list[mid]\n",
    "            if guess == item:\n",
    "                return mid\n",
    "            if guess > item:\n",
    "                high = mid - 1\n",
    "            else:\n",
    "                low = mid + 1\n",
    "        return None"
   ]
  },
  {
   "cell_type": "code",
   "execution_count": 7,
   "id": "0b3a66b3",
   "metadata": {},
   "outputs": [],
   "source": [
    "my_list = [1, 2, 4, 8, 15, 16, 23, 42, 46, 65, 76, 81, 83, 89, 92]"
   ]
  },
  {
   "cell_type": "code",
   "execution_count": 8,
   "id": "0cb8c7e3",
   "metadata": {},
   "outputs": [
    {
     "name": "stdout",
     "output_type": "stream",
     "text": [
      "2\n"
     ]
    }
   ],
   "source": [
    "print(binary_search(my_list, 4))"
   ]
  },
  {
   "cell_type": "code",
   "execution_count": 9,
   "id": "dd192cff",
   "metadata": {},
   "outputs": [
    {
     "name": "stdout",
     "output_type": "stream",
     "text": [
      "8\n"
     ]
    }
   ],
   "source": [
    "print(binary_search(my_list, 46))"
   ]
  },
  {
   "cell_type": "code",
   "execution_count": 10,
   "id": "3597036f",
   "metadata": {},
   "outputs": [
    {
     "name": "stdout",
     "output_type": "stream",
     "text": [
      "None\n"
     ]
    }
   ],
   "source": [
    "print(binary_search(my_list, 95))"
   ]
  },
  {
   "cell_type": "code",
   "execution_count": null,
   "id": "e125295f",
   "metadata": {},
   "outputs": [],
   "source": []
  }
 ],
 "metadata": {
  "kernelspec": {
   "display_name": "Python 3 (ipykernel)",
   "language": "python",
   "name": "python3"
  },
  "language_info": {
   "codemirror_mode": {
    "name": "ipython",
    "version": 3
   },
   "file_extension": ".py",
   "mimetype": "text/x-python",
   "name": "python",
   "nbconvert_exporter": "python",
   "pygments_lexer": "ipython3",
   "version": "3.9.7"
  }
 },
 "nbformat": 4,
 "nbformat_minor": 5
}
